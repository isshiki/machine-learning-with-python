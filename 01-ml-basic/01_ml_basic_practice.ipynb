{
 "cells": [
  {
   "cell_type": "markdown",
   "metadata": {},
   "source": [
    "# 機械学習入門 第1回の演習ノートブック [![Open In Colab](https://colab.research.google.com/assets/colab-badge.svg)](https://colab.research.google.com/github/isshiki/machine-learning-with-python/blob/main/01-ml-basic/01_ml_basic_practice.ipynb)\n",
    "- ＠IT連載： [『Pythonで学ぶ「機械学習」入門 【知識ゼロでも大丈夫】』](https://atmarkit.itmedia.co.jp/ait/subtop/features/di/machinelearning_index.html)\n",
    "- 対応記事： [「機械学習をPythonで学ぼう！　基礎、できること、ライブラリ」](https://atmarkit.itmedia.co.jp/ait/articles/2402/08/news029.html)"
   ]
  },
  {
   "cell_type": "markdown",
   "metadata": {},
   "source": [
    "ここでは、Colab（Google Colaboratory）を使う時に便利なTipsを1つ紹介します。  \n",
    "また、機械学習の各ライブラリのバージョンをチェックする方法を紹介します。"
   ]
  },
  {
   "cell_type": "markdown",
   "metadata": {},
   "source": [
    "<a name=\"scratchpad\"></a>\n",
    "\n",
    "## ■Colabでコードを試したい時に便利なURL"
   ]
  },
  {
   "cell_type": "markdown",
   "metadata": {},
   "source": [
    "下記のURLをクリックすると、「scratchpad」と呼ばれる一時ページが表示され、すぐにコードを書いて実行できます。\n",
    "\n",
    "- <https://colab.research.google.com/notebooks/empty.ipynb>\n",
    "\n",
    "コードを書いたけど保存する必要がなければ、そのまま閉じれば、Googleドライブに保存されることなく破棄されます。\n",
    "\n",
    "保存したい場合は、メニューバーの［ファイル］－［ドライブにコピーを保存］した上で、ノートブックのタイトルを書き換えてください。  \n",
    "タイトルは `01_ml_basic_practice.ipynb` のように `.ipynb` という拡張子を付けることで、Jupyter互換ノートブックのファイルとして使用できます。\n",
    "\n",
    "筆者はWebブラウザーで上記のリンク先をブックマークして常用しており、オススメです。"
   ]
  },
  {
   "cell_type": "markdown",
   "metadata": {},
   "source": [
    "<a name=\"versioncheck\"></a>\n",
    "\n",
    "## ■機械学習の各ライブラリのバージョンをチェックする方法"
   ]
  },
  {
   "cell_type": "code",
   "execution_count": 9,
   "metadata": {},
   "outputs": [
    {
     "name": "stdout",
     "output_type": "stream",
     "text": [
      "Requirement already satisfied: seaborn==0.13.1 in c:\\users\\masa-i\\.conda\\envs\\kaggle\\lib\\site-packages (0.13.1)\n",
      "Requirement already satisfied: pandas>=1.2 in c:\\users\\masa-i\\.conda\\envs\\kaggle\\lib\\site-packages (from seaborn==0.13.1) (2.1.4)\n",
      "Requirement already satisfied: matplotlib!=3.6.1,>=3.4 in c:\\users\\masa-i\\.conda\\envs\\kaggle\\lib\\site-packages (from seaborn==0.13.1) (3.7.1)\n",
      "Requirement already satisfied: numpy!=1.24.0,>=1.20 in c:\\users\\masa-i\\.conda\\envs\\kaggle\\lib\\site-packages (from seaborn==0.13.1) (1.26.4)\n",
      "Requirement already satisfied: pillow>=6.2.0 in c:\\users\\masa-i\\.conda\\envs\\kaggle\\lib\\site-packages (from matplotlib!=3.6.1,>=3.4->seaborn==0.13.1) (9.0.1)\n",
      "Requirement already satisfied: contourpy>=1.0.1 in c:\\users\\masa-i\\.conda\\envs\\kaggle\\lib\\site-packages (from matplotlib!=3.6.1,>=3.4->seaborn==0.13.1) (1.2.1)\n",
      "Requirement already satisfied: cycler>=0.10 in c:\\users\\masa-i\\.conda\\envs\\kaggle\\lib\\site-packages (from matplotlib!=3.6.1,>=3.4->seaborn==0.13.1) (0.11.0)\n",
      "Requirement already satisfied: pyparsing>=2.3.1 in c:\\users\\masa-i\\.conda\\envs\\kaggle\\lib\\site-packages (from matplotlib!=3.6.1,>=3.4->seaborn==0.13.1) (3.0.4)\n",
      "Requirement already satisfied: kiwisolver>=1.0.1 in c:\\users\\masa-i\\.conda\\envs\\kaggle\\lib\\site-packages (from matplotlib!=3.6.1,>=3.4->seaborn==0.13.1) (1.4.2)\n",
      "Requirement already satisfied: python-dateutil>=2.7 in c:\\users\\masa-i\\.conda\\envs\\kaggle\\lib\\site-packages (from matplotlib!=3.6.1,>=3.4->seaborn==0.13.1) (2.8.2)\n",
      "Requirement already satisfied: fonttools>=4.22.0 in c:\\users\\masa-i\\.conda\\envs\\kaggle\\lib\\site-packages (from matplotlib!=3.6.1,>=3.4->seaborn==0.13.1) (4.25.0)\n",
      "Requirement already satisfied: packaging>=20.0 in c:\\users\\masa-i\\.conda\\envs\\kaggle\\lib\\site-packages (from matplotlib!=3.6.1,>=3.4->seaborn==0.13.1) (21.3)\n",
      "Requirement already satisfied: tzdata>=2022.1 in c:\\users\\masa-i\\.conda\\envs\\kaggle\\lib\\site-packages (from pandas>=1.2->seaborn==0.13.1) (2024.1)\n",
      "Requirement already satisfied: pytz>=2020.1 in c:\\users\\masa-i\\.conda\\envs\\kaggle\\lib\\site-packages (from pandas>=1.2->seaborn==0.13.1) (2021.3)\n",
      "Requirement already satisfied: six>=1.5 in c:\\users\\masa-i\\.conda\\envs\\kaggle\\lib\\site-packages (from python-dateutil>=2.7->matplotlib!=3.6.1,>=3.4->seaborn==0.13.1) (1.16.0)\n"
     ]
    }
   ],
   "source": [
    "#@title seabornライブラリのインストール\n",
    "\n",
    "# Colabではインストールが必要です。\n",
    "! pip install seaborn==0.13.1"
   ]
  },
  {
   "cell_type": "code",
   "execution_count": 14,
   "metadata": {},
   "outputs": [
    {
     "name": "stdout",
     "output_type": "stream",
     "text": [
      "実行日: 2024年08月19日\n",
      "Python version: 3.10.12\n",
      "NumPy version: 1.26.4\n",
      "pandas version: 2.1.4\n",
      "matplotlib version: 3.7.1\n",
      "seaborn version: 0.13.1\n",
      "scikit-learn version: 1.3.2\n"
     ]
    }
   ],
   "source": [
    "#@title 実行環境のバージョンチェック\n",
    "\n",
    "# Pythonや各ライブラリのバージョンによって、Pythonコードの挙動が異なる可能性があります。\n",
    "# そのため、サンプルノートブック作成時の実行環境と一致させられるよう、本連載で提供する全てのサンプルノートブックではバージョン情報を出力しています。\n",
    "\n",
    "from datetime import datetime\n",
    "import platform\n",
    "import numpy as np\n",
    "import pandas as pd\n",
    "import matplotlib\n",
    "import seaborn as sns\n",
    "import sklearn\n",
    "\n",
    "print(f'実行日: {datetime.now().strftime(\"%Y年%m月%d日\")}')\n",
    "print(f'Python version: {platform.python_version()}')\n",
    "print(f'NumPy version: {np.version.version}')\n",
    "print(f'pandas version: {pd.__version__}')\n",
    "print(f'matplotlib version: {matplotlib.__version__}')\n",
    "print(f'seaborn version: {sns.__version__}')\n",
    "print(f'scikit-learn version: {sklearn.__version__}')\n",
    "\n",
    "# 実行日: 2024年08月19日\n",
    "# Python version: 3.10.12\n",
    "# NumPy version: 1.26.4\n",
    "# pandas version: 2.1.4\n",
    "# matplotlib version: 3.7.1\n",
    "# seaborn version: 0.13.1\n",
    "# scikit-learn version: 1.3.2"
   ]
  },
  {
   "cell_type": "markdown",
   "metadata": {},
   "source": [
    "### 今回は、これで終わりです。お疲れさまでした。"
   ]
  }
 ],
 "metadata": {
  "kernelspec": {
   "display_name": "Kaggle",
   "language": "python",
   "name": "python3"
  },
  "language_info": {
   "codemirror_mode": {
    "name": "ipython",
    "version": 3
   },
   "file_extension": ".py",
   "mimetype": "text/x-python",
   "name": "python",
   "nbconvert_exporter": "python",
   "pygments_lexer": "ipython3",
   "version": "3.10.12"
  }
 },
 "nbformat": 4,
 "nbformat_minor": 2
}
