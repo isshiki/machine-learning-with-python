{
 "cells": [
  {
   "cell_type": "markdown",
   "metadata": {},
   "source": [
    "# 機械学習入門 第1回の演習ノートブック\n",
    "- ＠IT連載： [『Pythonで学ぶ「機械学習」入門 【知識ゼロでも大丈夫】』](https://atmarkit.itmedia.co.jp/ait/subtop/features/di/machinelearning_index.html)\n",
    "- 対応記事： [「機械学習をPythonで学ぼう！　基礎、できること、ライブラリ」](https://atmarkit.itmedia.co.jp/ait/articles/2402/08/news029.html)"
   ]
  },
  {
   "cell_type": "markdown",
   "metadata": {},
   "source": [
    "第1回ではプログラミングの演習はありません。  \n",
    "ここでは、Colab（Google Colaboratory）を使う時に便利なTipsを1つ紹介します。"
   ]
  },
  {
   "cell_type": "markdown",
   "metadata": {},
   "source": [
    "## Colabでコードを試したい時に便利なURL"
   ]
  },
  {
   "cell_type": "markdown",
   "metadata": {},
   "source": [
    "下記のURLをクリックすると、「scratchpad」と呼ばれる一時ページが表示され、すぐにコードを書いて実行できます。\n",
    "\n",
    "- <https://colab.research.google.com/notebooks/empty.ipynb>\n",
    "\n",
    "コードを書いたけど保存する必要がなければ、そのまま閉じれば、Googleドライブに保存されることなく破棄されます。\n",
    "\n",
    "保存したい場合は、メニューバーの［ファイル］－［ドライブにコピーを保存］した上で、ノートブックのタイトルを書き換えてください。  \n",
    "タイトルは `01_ml_basic_practice.ipynb` のように `.ipynb` という拡張子を付けることで、Jupyter互換ノートブックのファイルとして使用できます。\n",
    "\n",
    "筆者はWebブラウザーで上記のリンク先をブックマークして常用しており、お勧めです。"
   ]
  }
 ],
 "metadata": {
  "language_info": {
   "name": "python"
  }
 },
 "nbformat": 4,
 "nbformat_minor": 2
}
