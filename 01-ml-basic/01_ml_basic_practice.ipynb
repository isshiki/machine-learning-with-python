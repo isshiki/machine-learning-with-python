{
 "cells": [
  {
   "cell_type": "markdown",
   "metadata": {},
   "source": [
    "# 機械学習入門 第1回の演習ノートブック [![Open In Colab](https://colab.research.google.com/assets/colab-badge.svg)](https://colab.research.google.com/github/isshiki/machine-learning-with-python/blob/main/01-ml-basic/01_ml_basic_practice.ipynb)\n",
    "- ＠IT連載： [『Pythonで学ぶ「機械学習」入門 【知識ゼロでも大丈夫】』](https://atmarkit.itmedia.co.jp/ait/subtop/features/di/machinelearning_index.html)\n",
    "- 対応記事： [「機械学習をPythonで学ぼう！　基礎、できること、ライブラリ」](https://atmarkit.itmedia.co.jp/ait/articles/2402/08/news029.html)"
   ]
  },
  {
   "cell_type": "markdown",
   "metadata": {},
   "source": [
    "ここでは、Colab（Google Colaboratory）を使う時に便利なTipsを1つ紹介します。  \n",
    "また、機械学習の各ライブラリのバージョンをチェックする方法を紹介します。"
   ]
  },
  {
   "cell_type": "markdown",
   "metadata": {},
   "source": [
    "<a name=\"scratchpad\"></a>\n",
    "\n",
    "## ■Colabでコードを試したい時に便利なURL"
   ]
  },
  {
   "cell_type": "markdown",
   "metadata": {},
   "source": [
    "下記のURLをクリックすると、「scratchpad」と呼ばれる一時ページが表示され、すぐにコードを書いて実行できます。\n",
    "\n",
    "- <https://colab.research.google.com/notebooks/empty.ipynb>\n",
    "\n",
    "コードを書いたけど保存する必要がなければ、そのまま閉じれば、Googleドライブに保存されることなく破棄されます。\n",
    "\n",
    "保存したい場合は、メニューバーの［ファイル］－［ドライブにコピーを保存］した上で、ノートブックのタイトルを書き換えてください。  \n",
    "タイトルは `01_ml_basic_practice.ipynb` のように `.ipynb` という拡張子を付けることで、Jupyter互換ノートブックのファイルとして使用できます。\n",
    "\n",
    "筆者はWebブラウザーで上記のリンク先をブックマークして常用しており、オススメです。"
   ]
  },
  {
   "cell_type": "markdown",
   "metadata": {},
   "source": [
    "<a name=\"versioncheck\"></a>\n",
    "\n",
    "## ■機械学習の各ライブラリのバージョンをチェックする方法"
   ]
  },
  {
   "cell_type": "code",
   "execution_count": null,
   "metadata": {},
   "outputs": [
    {
     "name": "stdout",
     "output_type": "stream",
     "text": [
      "実行日: 2025年06月15日\n",
      "Python version: 3.11.13\n",
      "NumPy version: 2.0.2\n",
      "pandas version: 2.2.2\n",
      "matplotlib version: 3.10.0\n",
      "seaborn version: 0.13.2\n",
      "scikit-learn version: 1.6.1\n"
     ]
    }
   ],
   "source": [
    "#@title 実行環境のバージョンチェック\n",
    "\n",
    "# Pythonや各ライブラリのバージョンによって、Pythonコードの挙動が異なる可能性があります。\n",
    "# そのため、サンプルノートブック作成時の実行環境と一致させられるよう、本連載で提供する全てのサンプルノートブックではバージョン情報を出力しています。\n",
    "\n",
    "from datetime import datetime\n",
    "import platform\n",
    "import numpy as np\n",
    "import pandas as pd\n",
    "import matplotlib\n",
    "import seaborn as sns\n",
    "import sklearn\n",
    "\n",
    "print(f'実行日: {datetime.now():%Y年%m月%d日}')\n",
    "print(f'Python version: {platform.python_version()}')\n",
    "print(f'NumPy version: {np.version.version}')\n",
    "print(f'pandas version: {pd.__version__}')\n",
    "print(f'matplotlib version: {matplotlib.__version__}')\n",
    "print(f'seaborn version: {sns.__version__}')\n",
    "print(f'scikit-learn version: {sklearn.__version__}')\n",
    "\n",
    "# 実行日: 2025年06月15日\n",
    "# Python version: 3.11.13\n",
    "# NumPy version: 2.0.2\n",
    "# pandas version: 2.2.2\n",
    "# matplotlib version: 3.10.0\n",
    "# seaborn version: 0.13.2\n",
    "# scikit-learn version: 1.6.1"
   ]
  },
  {
   "cell_type": "markdown",
   "metadata": {},
   "source": [
    "### 今回は、これで終わりです。お疲れさまでした。"
   ]
  }
 ],
 "metadata": {
  "kernelspec": {
   "display_name": "ML",
   "language": "python",
   "name": "python3"
  },
  "language_info": {
   "codemirror_mode": {
    "name": "ipython",
    "version": 3
   },
   "file_extension": ".py",
   "mimetype": "text/x-python",
   "name": "python",
   "nbconvert_exporter": "python",
   "pygments_lexer": "ipython3",
   "version": "3.11.13"
  }
 },
 "nbformat": 4,
 "nbformat_minor": 2
}
