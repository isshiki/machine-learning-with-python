{
 "cells": [
  {
   "cell_type": "markdown",
   "metadata": {},
   "source": [
    "# 機械学習入門 第2回の演習ノートブック [![Open In Colab](https://colab.research.google.com/assets/colab-badge.svg)](https://colab.research.google.com/github//isshiki/machine-learning-with-python/blob/main/02-scikit-learn/02_scikit-learn_practice.ipynb)\n",
    "- ＠IT連載： [『Pythonで学ぶ「機械学習」入門 【知識ゼロでも大丈夫】』](https://atmarkit.itmedia.co.jp/ait/subtop/features/di/machinelearning_index.html)\n",
    "- 対応記事： [「scikit-learn入門＆使い方 ― データ読み込みから機械学習までの流れを体験しよう」](#)"
   ]
  },
  {
   "cell_type": "markdown",
   "metadata": {},
   "source": [
    "第2回のコンテンツは鋭意、準備中です。"
   ]
  }
 ],
 "metadata": {
  "language_info": {
   "name": "python"
  }
 },
 "nbformat": 4,
 "nbformat_minor": 2
}
