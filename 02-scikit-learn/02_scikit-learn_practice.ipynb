{
 "cells": [
  {
   "cell_type": "markdown",
   "metadata": {},
   "source": [
    "# 機械学習入門\n",
    "##  第2回の演習ノートブック [![Open In Colab](https://colab.research.google.com/assets/colab-badge.svg)](https://colab.research.google.com/github/isshiki/machine-learning-with-python/blob/main/02-scikit-learn/02_scikit-learn_practice.ipynb)\n",
    "\n",
    "- ＠IT連載： [『Pythonで学ぶ「機械学習」入門【知識ゼロでも大丈夫】』](https://atmarkit.itmedia.co.jp/ait/subtop/features/di/machinelearning_index.html)\n",
    "- 対応記事： [「scikit-learn入門＆使い方 ― 機械学習の流れを学ぼう」](https://atmarkit.itmedia.co.jp/ait/articles/2404/11/news029.html)\n",
    "\n",
    "このノートブックは、[Apache License 2.0ライセンス](https://opensource.org/license/apache-2-0)で提供しています。商用でも使用・改変・複製・再配布が可能です。詳細については、LICENSEファイルをご覧ください。"
   ]
  },
  {
   "cell_type": "markdown",
   "metadata": {},
   "source": [
    "### ■0. 今回使用するデータセット"
   ]
  },
  {
   "cell_type": "markdown",
   "metadata": {},
   "source": [
    "今回は、あやめ（Iris）という花のデータセットを使います（配布元：<https://doi.org/10.24432/C56C76>、ライセンス：[CC BY 4.0](https://creativecommons.org/licenses/by/4.0/legalcode.ja)）。\n",
    "\n",
    "- <https://raw.githubusercontent.com/isshiki/machine-learning-with-python/main/02-scikit-learn/iris_processed.csv>"
   ]
  },
  {
   "cell_type": "markdown",
   "metadata": {},
   "source": [
    "### ■1. サンプルデータを読み込んでみよう（pandas使用）"
   ]
  },
  {
   "cell_type": "code",
   "execution_count": 28,
   "metadata": {},
   "outputs": [
    {
     "data": {
      "text/html": [
       "<div>\n",
       "<style scoped>\n",
       "    .dataframe tbody tr th:only-of-type {\n",
       "        vertical-align: middle;\n",
       "    }\n",
       "\n",
       "    .dataframe tbody tr th {\n",
       "        vertical-align: top;\n",
       "    }\n",
       "\n",
       "    .dataframe thead th {\n",
       "        text-align: right;\n",
       "    }\n",
       "</style>\n",
       "<table border=\"1\" class=\"dataframe\">\n",
       "  <thead>\n",
       "    <tr style=\"text-align: right;\">\n",
       "      <th></th>\n",
       "      <th>Sepal Length</th>\n",
       "      <th>Sepal Width</th>\n",
       "      <th>Petal Length</th>\n",
       "      <th>Petal Width</th>\n",
       "      <th>Class</th>\n",
       "    </tr>\n",
       "  </thead>\n",
       "  <tbody>\n",
       "    <tr>\n",
       "      <th>0</th>\n",
       "      <td>5.1</td>\n",
       "      <td>3.5</td>\n",
       "      <td>1.4</td>\n",
       "      <td>0.2</td>\n",
       "      <td>setosa</td>\n",
       "    </tr>\n",
       "    <tr>\n",
       "      <th>1</th>\n",
       "      <td>4.9</td>\n",
       "      <td>3.0</td>\n",
       "      <td>1.4</td>\n",
       "      <td>0.2</td>\n",
       "      <td>setosa</td>\n",
       "    </tr>\n",
       "    <tr>\n",
       "      <th>2</th>\n",
       "      <td>4.7</td>\n",
       "      <td>NaN</td>\n",
       "      <td>1.3</td>\n",
       "      <td>0.2</td>\n",
       "      <td>setosa</td>\n",
       "    </tr>\n",
       "    <tr>\n",
       "      <th>3</th>\n",
       "      <td>4.6</td>\n",
       "      <td>3.1</td>\n",
       "      <td>1.5</td>\n",
       "      <td>0.2</td>\n",
       "      <td>setosa</td>\n",
       "    </tr>\n",
       "    <tr>\n",
       "      <th>4</th>\n",
       "      <td>5.0</td>\n",
       "      <td>3.6</td>\n",
       "      <td>1.4</td>\n",
       "      <td>0.2</td>\n",
       "      <td>setosa</td>\n",
       "    </tr>\n",
       "  </tbody>\n",
       "</table>\n",
       "</div>"
      ],
      "text/plain": [
       "   Sepal Length  Sepal Width  Petal Length  Petal Width   Class\n",
       "0           5.1          3.5           1.4          0.2  setosa\n",
       "1           4.9          3.0           1.4          0.2  setosa\n",
       "2           4.7          NaN           1.3          0.2  setosa\n",
       "3           4.6          3.1           1.5          0.2  setosa\n",
       "4           5.0          3.6           1.4          0.2  setosa"
      ]
     },
     "execution_count": 28,
     "metadata": {},
     "output_type": "execute_result"
    }
   ],
   "source": [
    "import pandas as pd\n",
    "\n",
    "# データの読み込み\n",
    "url = 'https://raw.githubusercontent.com/isshiki/machine-learning-with-python/main/02-scikit-learn/iris_processed.csv'\n",
    "df = pd.read_csv(url)\n",
    "\n",
    "# データの確認\n",
    "df.head()"
   ]
  },
  {
   "cell_type": "markdown",
   "metadata": {},
   "source": [
    "### ■2. 前処理：カテゴリー値を数値に置き換えよう（pandas使用）"
   ]
  },
  {
   "cell_type": "code",
   "execution_count": 29,
   "metadata": {},
   "outputs": [
    {
     "data": {
      "text/html": [
       "<div>\n",
       "<style scoped>\n",
       "    .dataframe tbody tr th:only-of-type {\n",
       "        vertical-align: middle;\n",
       "    }\n",
       "\n",
       "    .dataframe tbody tr th {\n",
       "        vertical-align: top;\n",
       "    }\n",
       "\n",
       "    .dataframe thead th {\n",
       "        text-align: right;\n",
       "    }\n",
       "</style>\n",
       "<table border=\"1\" class=\"dataframe\">\n",
       "  <thead>\n",
       "    <tr style=\"text-align: right;\">\n",
       "      <th></th>\n",
       "      <th>Sepal Length</th>\n",
       "      <th>Sepal Width</th>\n",
       "      <th>Petal Length</th>\n",
       "      <th>Petal Width</th>\n",
       "      <th>Class</th>\n",
       "      <th>Class_ID</th>\n",
       "    </tr>\n",
       "  </thead>\n",
       "  <tbody>\n",
       "    <tr>\n",
       "      <th>0</th>\n",
       "      <td>5.1</td>\n",
       "      <td>3.5</td>\n",
       "      <td>1.4</td>\n",
       "      <td>0.2</td>\n",
       "      <td>setosa</td>\n",
       "      <td>0</td>\n",
       "    </tr>\n",
       "    <tr>\n",
       "      <th>1</th>\n",
       "      <td>4.9</td>\n",
       "      <td>3.0</td>\n",
       "      <td>1.4</td>\n",
       "      <td>0.2</td>\n",
       "      <td>setosa</td>\n",
       "      <td>0</td>\n",
       "    </tr>\n",
       "    <tr>\n",
       "      <th>2</th>\n",
       "      <td>4.7</td>\n",
       "      <td>NaN</td>\n",
       "      <td>1.3</td>\n",
       "      <td>0.2</td>\n",
       "      <td>setosa</td>\n",
       "      <td>0</td>\n",
       "    </tr>\n",
       "    <tr>\n",
       "      <th>3</th>\n",
       "      <td>4.6</td>\n",
       "      <td>3.1</td>\n",
       "      <td>1.5</td>\n",
       "      <td>0.2</td>\n",
       "      <td>setosa</td>\n",
       "      <td>0</td>\n",
       "    </tr>\n",
       "    <tr>\n",
       "      <th>4</th>\n",
       "      <td>5.0</td>\n",
       "      <td>3.6</td>\n",
       "      <td>1.4</td>\n",
       "      <td>0.2</td>\n",
       "      <td>setosa</td>\n",
       "      <td>0</td>\n",
       "    </tr>\n",
       "  </tbody>\n",
       "</table>\n",
       "</div>"
      ],
      "text/plain": [
       "   Sepal Length  Sepal Width  Petal Length  Petal Width   Class  Class_ID\n",
       "0           5.1          3.5           1.4          0.2  setosa         0\n",
       "1           4.9          3.0           1.4          0.2  setosa         0\n",
       "2           4.7          NaN           1.3          0.2  setosa         0\n",
       "3           4.6          3.1           1.5          0.2  setosa         0\n",
       "4           5.0          3.6           1.4          0.2  setosa         0"
      ]
     },
     "execution_count": 29,
     "metadata": {},
     "output_type": "execute_result"
    }
   ],
   "source": [
    "# カテゴリー値を数値にマッピング\n",
    "class_mapping = {'setosa': 0, 'versicolor': 1, 'virginica': 2}\n",
    "df['Class_ID'] = df['Class'].map(class_mapping)\n",
    "\n",
    "# データの確認\n",
    "df.head()"
   ]
  },
  {
   "cell_type": "markdown",
   "metadata": {},
   "source": [
    "### ■3. 前処理：欠損値がないか確認し、あれば対処しよう"
   ]
  },
  {
   "cell_type": "markdown",
   "metadata": {},
   "source": [
    "#### ●欠損値の有無を調べる（pandas使用）"
   ]
  },
  {
   "cell_type": "code",
   "execution_count": 30,
   "metadata": {},
   "outputs": [
    {
     "data": {
      "text/plain": [
       "Sepal Length    0\n",
       "Sepal Width     1\n",
       "Petal Length    0\n",
       "Petal Width     0\n",
       "Class           0\n",
       "Class_ID        0\n",
       "dtype: int64"
      ]
     },
     "execution_count": 30,
     "metadata": {},
     "output_type": "execute_result"
    }
   ],
   "source": [
    "# 各列における欠損値の数を確認\n",
    "df.isna().sum()"
   ]
  },
  {
   "cell_type": "markdown",
   "metadata": {},
   "source": [
    "#### ●欠損値を処理する（pandas使用）"
   ]
  },
  {
   "cell_type": "code",
   "execution_count": 31,
   "metadata": {},
   "outputs": [
    {
     "name": "stdout",
     "output_type": "stream",
     "text": [
      "元データの行数：  150\n",
      "欠損値処理済みデータの行数：  149\n"
     ]
    }
   ],
   "source": [
    "# 欠損値のある行を削除\n",
    "df_dropped = df.dropna()\n",
    "\n",
    "# 結果の出力\n",
    "print('元データの行数： ', len(df))\n",
    "print('欠損値処理済みデータの行数： ', len(df_dropped))"
   ]
  },
  {
   "cell_type": "markdown",
   "metadata": {},
   "source": [
    "### ■4. 前処理：異常値がないか確認し、あれば対処しよう"
   ]
  },
  {
   "cell_type": "markdown",
   "metadata": {},
   "source": [
    "#### ●グラフから異常値を検出する（Matplotlib使用）"
   ]
  },
  {
   "cell_type": "code",
   "execution_count": 32,
   "metadata": {},
   "outputs": [
    {
     "data": {
      "image/png": "[encoded data removed]",
      "text/plain": [
       "<Figure size 432x288 with 1 Axes>"
      ]
     },
     "metadata": {
      "needs_background": "light"
     },
     "output_type": "display_data"
    }
   ],
   "source": [
    "import matplotlib.pyplot as plt\n",
    "\n",
    "# 4つの特徴量（説明変数）を選択\n",
    "df_features = df_dropped.loc[:, ['Sepal Length', 'Sepal Width', 'Petal Length', 'Petal Width']]\n",
    "\n",
    "# 箱ひげ図を表示\n",
    "df_features.boxplot()\n",
    "plt.show()"
   ]
  },
  {
   "cell_type": "code",
   "execution_count": 33,
   "metadata": {},
   "outputs": [
    {
     "data": {
      "image/png": "[encoded data removed]",
      "text/plain": [
       "<Figure size 720x216 with 4 Axes>"
      ]
     },
     "metadata": {
      "needs_background": "light"
     },
     "output_type": "display_data"
    }
   ],
   "source": [
    "# 【参考】ヒストグラムを表示する場合（本ノートブックのみに掲載）\n",
    "fig, axes = plt.subplots(1, 4, figsize=(10, 3))\n",
    "for i, feature in enumerate(df_features.columns):\n",
    "    axes[i].hist(df_features[feature])\n",
    "    axes[i].set_title(feature)\n",
    "plt.show()"
   ]
  },
  {
   "cell_type": "markdown",
   "metadata": {},
   "source": [
    "#### ●統計量からも異常値を確認する（pandas使用）"
   ]
  },
  {
   "cell_type": "code",
   "execution_count": 34,
   "metadata": {},
   "outputs": [
    {
     "data": {
      "text/html": [
       "<div>\n",
       "<style scoped>\n",
       "    .dataframe tbody tr th:only-of-type {\n",
       "        vertical-align: middle;\n",
       "    }\n",
       "\n",
       "    .dataframe tbody tr th {\n",
       "        vertical-align: top;\n",
       "    }\n",
       "\n",
       "    .dataframe thead th {\n",
       "        text-align: right;\n",
       "    }\n",
       "</style>\n",
       "<table border=\"1\" class=\"dataframe\">\n",
       "  <thead>\n",
       "    <tr style=\"text-align: right;\">\n",
       "      <th></th>\n",
       "      <th>Sepal Length</th>\n",
       "      <th>Sepal Width</th>\n",
       "      <th>Petal Length</th>\n",
       "      <th>Petal Width</th>\n",
       "    </tr>\n",
       "  </thead>\n",
       "  <tbody>\n",
       "    <tr>\n",
       "      <th>count</th>\n",
       "      <td>149.000000</td>\n",
       "      <td>149.000000</td>\n",
       "      <td>149.000000</td>\n",
       "      <td>149.000000</td>\n",
       "    </tr>\n",
       "    <tr>\n",
       "      <th>mean</th>\n",
       "      <td>5.851007</td>\n",
       "      <td>3.056376</td>\n",
       "      <td>3.774497</td>\n",
       "      <td>1.206040</td>\n",
       "    </tr>\n",
       "    <tr>\n",
       "      <th>std</th>\n",
       "      <td>0.825491</td>\n",
       "      <td>0.437178</td>\n",
       "      <td>1.759613</td>\n",
       "      <td>0.760354</td>\n",
       "    </tr>\n",
       "    <tr>\n",
       "      <th>min</th>\n",
       "      <td>4.300000</td>\n",
       "      <td>2.000000</td>\n",
       "      <td>1.000000</td>\n",
       "      <td>0.100000</td>\n",
       "    </tr>\n",
       "    <tr>\n",
       "      <th>25%</th>\n",
       "      <td>5.100000</td>\n",
       "      <td>2.800000</td>\n",
       "      <td>1.600000</td>\n",
       "      <td>0.300000</td>\n",
       "    </tr>\n",
       "    <tr>\n",
       "      <th>50%</th>\n",
       "      <td>5.800000</td>\n",
       "      <td>3.000000</td>\n",
       "      <td>4.400000</td>\n",
       "      <td>1.300000</td>\n",
       "    </tr>\n",
       "    <tr>\n",
       "      <th>75%</th>\n",
       "      <td>6.400000</td>\n",
       "      <td>3.300000</td>\n",
       "      <td>5.100000</td>\n",
       "      <td>1.800000</td>\n",
       "    </tr>\n",
       "    <tr>\n",
       "      <th>max</th>\n",
       "      <td>7.900000</td>\n",
       "      <td>4.400000</td>\n",
       "      <td>6.900000</td>\n",
       "      <td>2.500000</td>\n",
       "    </tr>\n",
       "  </tbody>\n",
       "</table>\n",
       "</div>"
      ],
      "text/plain": [
       "       Sepal Length  Sepal Width  Petal Length  Petal Width\n",
       "count    149.000000   149.000000    149.000000   149.000000\n",
       "mean       5.851007     3.056376      3.774497     1.206040\n",
       "std        0.825491     0.437178      1.759613     0.760354\n",
       "min        4.300000     2.000000      1.000000     0.100000\n",
       "25%        5.100000     2.800000      1.600000     0.300000\n",
       "50%        5.800000     3.000000      4.400000     1.300000\n",
       "75%        6.400000     3.300000      5.100000     1.800000\n",
       "max        7.900000     4.400000      6.900000     2.500000"
      ]
     },
     "execution_count": 34,
     "metadata": {},
     "output_type": "execute_result"
    }
   ],
   "source": [
    "# 選択した特徴量の基礎統計量を表示\n",
    "df_features.describe()"
   ]
  },
  {
   "cell_type": "markdown",
   "metadata": {},
   "source": [
    "### ■【応用テクニック】より洗練された可視化と数値計算"
   ]
  },
  {
   "cell_type": "markdown",
   "metadata": {},
   "source": [
    "#### ●より高度なグラフ描画（seaborn使用）"
   ]
  },
  {
   "cell_type": "code",
   "execution_count": 35,
   "metadata": {},
   "outputs": [
    {
     "name": "stdout",
     "output_type": "stream",
     "text": [
      "Requirement already satisfied: seaborn in c:\\programdata\\anaconda3\\lib\\site-packages (0.11.2)\n",
      "Requirement already satisfied: matplotlib>=2.2 in c:\\programdata\\anaconda3\\lib\\site-packages (from seaborn) (3.4.3)\n",
      "Requirement already satisfied: numpy>=1.15 in c:\\users\\masa-i\\appdata\\roaming\\python\\python38\\site-packages (from seaborn) (1.19.5)\n",
      "Requirement already satisfied: pandas>=0.23 in c:\\programdata\\anaconda3\\lib\\site-packages (from seaborn) (1.3.4)\n",
      "Requirement already satisfied: scipy>=1.0 in c:\\programdata\\anaconda3\\lib\\site-packages (from seaborn) (1.7.1)\n",
      "Requirement already satisfied: python-dateutil>=2.7 in c:\\programdata\\anaconda3\\lib\\site-packages (from matplotlib>=2.2->seaborn) (2.8.2)\n",
      "Requirement already satisfied: kiwisolver>=1.0.1 in c:\\programdata\\anaconda3\\lib\\site-packages (from matplotlib>=2.2->seaborn) (1.3.1)\n",
      "Requirement already satisfied: pyparsing>=2.2.1 in c:\\programdata\\anaconda3\\lib\\site-packages (from matplotlib>=2.2->seaborn) (3.0.4)\n",
      "Requirement already satisfied: pillow>=6.2.0 in c:\\programdata\\anaconda3\\lib\\site-packages (from matplotlib>=2.2->seaborn) (8.4.0)\n",
      "Requirement already satisfied: cycler>=0.10 in c:\\programdata\\anaconda3\\lib\\site-packages (from matplotlib>=2.2->seaborn) (0.10.0)\n",
      "Requirement already satisfied: six in c:\\users\\masa-i\\appdata\\roaming\\python\\python38\\site-packages (from cycler>=0.10->matplotlib>=2.2->seaborn) (1.15.0)\n",
      "Requirement already satisfied: pytz>=2017.3 in c:\\programdata\\anaconda3\\lib\\site-packages (from pandas>=0.23->seaborn) (2021.3)\n"
     ]
    }
   ],
   "source": [
    "! pip install seaborn"
   ]
  },
  {
   "cell_type": "code",
   "execution_count": 36,
   "metadata": {},
   "outputs": [
    {
     "data": {
      "text/html": [
       "<div>\n",
       "<style scoped>\n",
       "    .dataframe tbody tr th:only-of-type {\n",
       "        vertical-align: middle;\n",
       "    }\n",
       "\n",
       "    .dataframe tbody tr th {\n",
       "        vertical-align: top;\n",
       "    }\n",
       "\n",
       "    .dataframe thead th {\n",
       "        text-align: right;\n",
       "    }\n",
       "</style>\n",
       "<table border=\"1\" class=\"dataframe\">\n",
       "  <thead>\n",
       "    <tr style=\"text-align: right;\">\n",
       "      <th></th>\n",
       "      <th>Sepal Length</th>\n",
       "      <th>Sepal Width</th>\n",
       "      <th>Petal Length</th>\n",
       "      <th>Petal Width</th>\n",
       "    </tr>\n",
       "  </thead>\n",
       "  <tbody>\n",
       "    <tr>\n",
       "      <th>0</th>\n",
       "      <td>5.1</td>\n",
       "      <td>3.5</td>\n",
       "      <td>1.4</td>\n",
       "      <td>0.2</td>\n",
       "    </tr>\n",
       "    <tr>\n",
       "      <th>1</th>\n",
       "      <td>4.9</td>\n",
       "      <td>3.0</td>\n",
       "      <td>1.4</td>\n",
       "      <td>0.2</td>\n",
       "    </tr>\n",
       "    <tr>\n",
       "      <th>3</th>\n",
       "      <td>4.6</td>\n",
       "      <td>3.1</td>\n",
       "      <td>1.5</td>\n",
       "      <td>0.2</td>\n",
       "    </tr>\n",
       "    <tr>\n",
       "      <th>4</th>\n",
       "      <td>5.0</td>\n",
       "      <td>3.6</td>\n",
       "      <td>1.4</td>\n",
       "      <td>0.2</td>\n",
       "    </tr>\n",
       "    <tr>\n",
       "      <th>5</th>\n",
       "      <td>5.4</td>\n",
       "      <td>3.9</td>\n",
       "      <td>1.7</td>\n",
       "      <td>0.4</td>\n",
       "    </tr>\n",
       "    <tr>\n",
       "      <th>...</th>\n",
       "      <td>...</td>\n",
       "      <td>...</td>\n",
       "      <td>...</td>\n",
       "      <td>...</td>\n",
       "    </tr>\n",
       "    <tr>\n",
       "      <th>145</th>\n",
       "      <td>6.7</td>\n",
       "      <td>3.0</td>\n",
       "      <td>5.2</td>\n",
       "      <td>2.3</td>\n",
       "    </tr>\n",
       "    <tr>\n",
       "      <th>146</th>\n",
       "      <td>6.3</td>\n",
       "      <td>2.5</td>\n",
       "      <td>5.0</td>\n",
       "      <td>1.9</td>\n",
       "    </tr>\n",
       "    <tr>\n",
       "      <th>147</th>\n",
       "      <td>6.5</td>\n",
       "      <td>3.0</td>\n",
       "      <td>5.2</td>\n",
       "      <td>2.0</td>\n",
       "    </tr>\n",
       "    <tr>\n",
       "      <th>148</th>\n",
       "      <td>6.2</td>\n",
       "      <td>3.4</td>\n",
       "      <td>5.4</td>\n",
       "      <td>2.3</td>\n",
       "    </tr>\n",
       "    <tr>\n",
       "      <th>149</th>\n",
       "      <td>5.9</td>\n",
       "      <td>3.0</td>\n",
       "      <td>5.1</td>\n",
       "      <td>1.8</td>\n",
       "    </tr>\n",
       "  </tbody>\n",
       "</table>\n",
       "<p>149 rows × 4 columns</p>\n",
       "</div>"
      ],
      "text/plain": [
       "     Sepal Length  Sepal Width  Petal Length  Petal Width\n",
       "0             5.1          3.5           1.4          0.2\n",
       "1             4.9          3.0           1.4          0.2\n",
       "3             4.6          3.1           1.5          0.2\n",
       "4             5.0          3.6           1.4          0.2\n",
       "5             5.4          3.9           1.7          0.4\n",
       "..            ...          ...           ...          ...\n",
       "145           6.7          3.0           5.2          2.3\n",
       "146           6.3          2.5           5.0          1.9\n",
       "147           6.5          3.0           5.2          2.0\n",
       "148           6.2          3.4           5.4          2.3\n",
       "149           5.9          3.0           5.1          1.8\n",
       "\n",
       "[149 rows x 4 columns]"
      ]
     },
     "metadata": {},
     "output_type": "display_data"
    },
    {
     "data": {
      "text/html": [
       "<div>\n",
       "<style scoped>\n",
       "    .dataframe tbody tr th:only-of-type {\n",
       "        vertical-align: middle;\n",
       "    }\n",
       "\n",
       "    .dataframe tbody tr th {\n",
       "        vertical-align: top;\n",
       "    }\n",
       "\n",
       "    .dataframe thead th {\n",
       "        text-align: right;\n",
       "    }\n",
       "</style>\n",
       "<table border=\"1\" class=\"dataframe\">\n",
       "  <thead>\n",
       "    <tr style=\"text-align: right;\">\n",
       "      <th></th>\n",
       "      <th>variable</th>\n",
       "      <th>value</th>\n",
       "    </tr>\n",
       "  </thead>\n",
       "  <tbody>\n",
       "    <tr>\n",
       "      <th>0</th>\n",
       "      <td>Sepal Length</td>\n",
       "      <td>5.1</td>\n",
       "    </tr>\n",
       "    <tr>\n",
       "      <th>1</th>\n",
       "      <td>Sepal Length</td>\n",
       "      <td>4.9</td>\n",
       "    </tr>\n",
       "    <tr>\n",
       "      <th>2</th>\n",
       "      <td>Sepal Length</td>\n",
       "      <td>4.6</td>\n",
       "    </tr>\n",
       "    <tr>\n",
       "      <th>3</th>\n",
       "      <td>Sepal Length</td>\n",
       "      <td>5.0</td>\n",
       "    </tr>\n",
       "    <tr>\n",
       "      <th>4</th>\n",
       "      <td>Sepal Length</td>\n",
       "      <td>5.4</td>\n",
       "    </tr>\n",
       "    <tr>\n",
       "      <th>...</th>\n",
       "      <td>...</td>\n",
       "      <td>...</td>\n",
       "    </tr>\n",
       "    <tr>\n",
       "      <th>591</th>\n",
       "      <td>Petal Width</td>\n",
       "      <td>2.3</td>\n",
       "    </tr>\n",
       "    <tr>\n",
       "      <th>592</th>\n",
       "      <td>Petal Width</td>\n",
       "      <td>1.9</td>\n",
       "    </tr>\n",
       "    <tr>\n",
       "      <th>593</th>\n",
       "      <td>Petal Width</td>\n",
       "      <td>2.0</td>\n",
       "    </tr>\n",
       "    <tr>\n",
       "      <th>594</th>\n",
       "      <td>Petal Width</td>\n",
       "      <td>2.3</td>\n",
       "    </tr>\n",
       "    <tr>\n",
       "      <th>595</th>\n",
       "      <td>Petal Width</td>\n",
       "      <td>1.8</td>\n",
       "    </tr>\n",
       "  </tbody>\n",
       "</table>\n",
       "<p>596 rows × 2 columns</p>\n",
       "</div>"
      ],
      "text/plain": [
       "         variable  value\n",
       "0    Sepal Length    5.1\n",
       "1    Sepal Length    4.9\n",
       "2    Sepal Length    4.6\n",
       "3    Sepal Length    5.0\n",
       "4    Sepal Length    5.4\n",
       "..            ...    ...\n",
       "591   Petal Width    2.3\n",
       "592   Petal Width    1.9\n",
       "593   Petal Width    2.0\n",
       "594   Petal Width    2.3\n",
       "595   Petal Width    1.8\n",
       "\n",
       "[596 rows x 2 columns]"
      ]
     },
     "metadata": {},
     "output_type": "display_data"
    }
   ],
   "source": [
    "# 【参考】Irisデータセットの全特徴量をワイド形式からロング形式に変換した例（本ノートブックのみに掲載）\n",
    "display(df_features)\n",
    "display(pd.melt(df_features))"
   ]
  },
  {
   "cell_type": "code",
   "execution_count": 37,
   "metadata": {},
   "outputs": [
    {
     "data": {
      "image/png": "[encoded data removed]",
      "text/plain": [
       "<Figure size 432x288 with 1 Axes>"
      ]
     },
     "metadata": {
      "needs_background": "light"
     },
     "output_type": "display_data"
    }
   ],
   "source": [
    "# seabornライブラリのインポート\n",
    "import seaborn as sns\n",
    "import matplotlib.pyplot as plt\n",
    "\n",
    "# seabornでビースウォーム図を作成する\n",
    "sns.swarmplot(data=pd.melt(df_features), x=\"variable\", y=\"value\", size=2.5)\n",
    "plt.show()"
   ]
  },
  {
   "cell_type": "markdown",
   "metadata": {},
   "source": [
    "#### 【コラム】探索的データ分析で有用なseabornのpairplot"
   ]
  },
  {
   "cell_type": "code",
   "execution_count": 38,
   "metadata": {},
   "outputs": [
    {
     "data": {
      "image/png": "[encoded data removed]",
      "text/plain": [
       "<Figure size 720x720 with 20 Axes>"
      ]
     },
     "metadata": {
      "needs_background": "light"
     },
     "output_type": "display_data"
    }
   ],
   "source": [
    "# DataFrame内の各特徴量のペアに対する散布図を表示\n",
    "sns.pairplot(df_features)\n",
    "plt.show()"
   ]
  },
  {
   "cell_type": "code",
   "execution_count": 39,
   "metadata": {},
   "outputs": [
    {
     "data": {
      "image/png": "[encoded data removed]",
      "text/plain": [
       "<Figure size 864x864 with 16 Axes>"
      ]
     },
     "metadata": {
      "needs_background": "light"
     },
     "output_type": "display_data"
    }
   ],
   "source": [
    "# 【参考】pandasで各特徴量ペアの散布図を表示する例（本ノートブックのみに掲載）\n",
    "pd.plotting.scatter_matrix(df_features, figsize=(12, 12))\n",
    "plt.show()"
   ]
  },
  {
   "cell_type": "markdown",
   "metadata": {},
   "source": [
    "#### ●より高速な数値計算（NumPy使用）"
   ]
  },
  {
   "cell_type": "code",
   "execution_count": 40,
   "metadata": {},
   "outputs": [
    {
     "name": "stdout",
     "output_type": "stream",
     "text": [
      "NumPy version: 1.22.3\n",
      "pandas version: 1.4.2\n",
      "NumPyのndarray（1次元）へのアクセス時間: 0.00176秒\n",
      "pandasのSeries（1次元）へのアクセス時間: 0.28667秒\n",
      "NumPyのndarray（2次元）へのアクセス時間: 0.00357秒\n",
      "pandasのDataFrame（2次元）へのアクセス時間: 0.20434秒\n",
      "NumPyのndarray（1次元）の掛け算時間: 0.00006秒\n",
      "pandasのSeries（1次元）の掛け算時間: 0.00603秒\n",
      "NumPyのndarray（1次元）への平均計算時間: 0.00061秒\n",
      "pandasのSeries（1次元）への平均計算時間: 0.00250秒\n",
      "NumPyのndarray（2次元）への平均計算時間: 0.00096秒\n",
      "pandasのDataFrame（2次元）への平均計算時間: 0.01929秒\n",
      "NumPyのndarray（1次元）へのアクセス速度は、pandasのSeriesへのアクセス速度の163.18倍速い！\n",
      "NumPyのndarray（2次元）へのアクセス速度は、pandasのDataFrameへのアクセス速度の57.18倍速い！\n",
      "NumPyのndarray（1次元）の掛け算速度は、pandasのSeriesの掛け算速度の93.70倍速い！\n",
      "NumPyのndarray（1次元）の平均計算速度は、pandasのSeriesの平均計算速度の4.07倍速い！\n",
      "NumPyのndarray（2次元）の平均計算速度は、pandasのDataFrameの平均計算速度の20.05倍速い！\n"
     ]
    }
   ],
   "source": [
    "#@title NumPyとpandasの速度比較の一例\n",
    "# 参考： [Performance of Pandas Series vs NumPy Arrays – Pen and Pants](https://penandpants.com/2014/09/05/performance-of-pandas-series-vs-numpy-arrays/)\n",
    "\n",
    "import numpy as np\n",
    "import pandas as pd\n",
    "import timeit\n",
    "\n",
    "print(f'NumPy version: {np.version.version}')\n",
    "print(f'pandas version: {pd.__version__}')\n",
    "\n",
    "# 1次元の配列データ／Series\n",
    "a = np.arange(100)\n",
    "aa = np.arange(100, 200)\n",
    "s = pd.Series(a)\n",
    "ss = pd.Series(aa)\n",
    "\n",
    "# 2次元の配列データ／DataFrame\n",
    "a2d = np.random.rand(100, 100)\n",
    "s2d = pd.DataFrame(a2d)\n",
    "\n",
    "# ランダムなインデックス\n",
    "i = np.random.choice(a, size=10)\n",
    "j = np.random.choice(range(100), size=10)\n",
    "\n",
    "# 配列要素へのアクセス速度の計測（1次元データと2次元データ）\n",
    "time_np_access_1d  = timeit.timeit(\"a[i]\", globals=globals(), number=1000)\n",
    "time_pd_access_1d = timeit.timeit(\"s[i]\", globals=globals(), number=1000)\n",
    "time_np_access_2d = timeit.timeit(\"a2d[j, i]\", globals=globals(), number=1000)\n",
    "time_pd_access_2d = timeit.timeit(\"s2d.iloc[j, i]\", globals=globals(), number=1000)\n",
    "\n",
    "# 掛け算速度の計測（1次元データ）\n",
    "time_np_multip_1d = timeit.timeit(\"a * aa\", globals=globals(), number=100)\n",
    "time_pd_multip_1d = timeit.timeit(\"s * ss\", globals=globals(), number=100)\n",
    "\n",
    "# 平均計算速度の計測（1次元データと2次元データ）\n",
    "time_np_mean_1d = timeit.timeit(\"a.mean()\", globals=globals(), number=100)\n",
    "time_pd_mean_1d = timeit.timeit(\"s.mean()\", globals=globals(), number=100)\n",
    "time_np_mean_2d = timeit.timeit(\"a2d.mean()\", globals=globals(), number=100)\n",
    "time_pd_mean_2d = timeit.timeit(\"s2d.mean()\", globals=globals(), number=100)\n",
    "\n",
    "# 結果を表示\n",
    "print(f\"NumPyのndarray（1次元）へのアクセス時間: {time_np_access_1d:.5f}秒\")\n",
    "print(f\"pandasのSeries（1次元）へのアクセス時間: {time_pd_access_1d:.5f}秒\")\n",
    "print(f\"NumPyのndarray（2次元）へのアクセス時間: {time_np_access_2d:.5f}秒\")\n",
    "print(f\"pandasのDataFrame（2次元）へのアクセス時間: {time_pd_access_2d:.5f}秒\")\n",
    "\n",
    "print(f\"NumPyのndarray（1次元）の掛け算時間: {time_np_multip_1d:.5f}秒\")\n",
    "print(f\"pandasのSeries（1次元）の掛け算時間: {time_pd_multip_1d:.5f}秒\")\n",
    "\n",
    "print(f\"NumPyのndarray（1次元）への平均計算時間: {time_np_mean_1d:.5f}秒\")\n",
    "print(f\"pandasのSeries（1次元）への平均計算時間: {time_pd_mean_1d:.5f}秒\")\n",
    "print(f\"NumPyのndarray（2次元）への平均計算時間: {time_np_mean_2d:.5f}秒\")\n",
    "print(f\"pandasのDataFrame（2次元）への平均計算時間: {time_pd_mean_2d:.5f}秒\")\n",
    "\n",
    "# アクセスが何倍速いかを計算\n",
    "speed_ratio_access_1d = time_pd_access_1d / time_np_access_1d\n",
    "print(f\"NumPyのndarray（1次元）へのアクセス速度は、pandasのSeriesへのアクセス速度の{speed_ratio_access_1d:.2f}倍速い！\")\n",
    "speed_ratio_access_2d = time_pd_access_2d / time_np_access_2d\n",
    "print(f\"NumPyのndarray（2次元）へのアクセス速度は、pandasのDataFrameへのアクセス速度の{speed_ratio_access_2d:.2f}倍速い！\")\n",
    "\n",
    "# 掛け算が何倍速いかを計算\n",
    "speed_ratio_multiplication = time_pd_multip_1d / time_np_multip_1d\n",
    "print(f\"NumPyのndarray（1次元）の掛け算速度は、pandasのSeriesの掛け算速度の{speed_ratio_multiplication:.2f}倍速い！\")\n",
    "\n",
    "# 平均計算が何倍速いかを計算\n",
    "speed_ratio_mean_1d = time_pd_mean_1d / time_np_mean_1d\n",
    "print(f\"NumPyのndarray（1次元）の平均計算速度は、pandasのSeriesの平均計算速度の{speed_ratio_mean_1d:.2f}倍速い！\")\n",
    "speed_ratio_mean_2d = time_pd_mean_2d / time_np_mean_2d\n",
    "print(f\"NumPyのndarray（2次元）の平均計算速度は、pandasのDataFrameの平均計算速度の{speed_ratio_mean_2d:.2f}倍速い！\")\n",
    "\n",
    "# Colab（無料版）での実行例\n",
    "# NumPy version: 1.25.2\n",
    "# pandas version: 2.0.3\n",
    "# NumPyのndarray（1次元）へのアクセス時間: 0.00046秒\n",
    "# pandasのSeries（1次元）へのアクセス時間: 0.43921秒\n",
    "# NumPyのndarray（2次元）へのアクセス時間: 0.00133秒\n",
    "# pandasのDataFrame（2次元）へのアクセス時間: 0.28215秒\n",
    "# NumPyのndarray（1次元）の掛け算時間: 0.00008秒\n",
    "# pandasのSeries（1次元）の掛け算時間: 0.00892秒\n",
    "# NumPyのndarray（1次元）への平均計算時間: 0.00085秒\n",
    "# pandasのSeries（1次元）への平均計算時間: 0.00497秒\n",
    "# NumPyのndarray（2次元）への平均計算時間: 0.00152秒\n",
    "# pandasのDataFrame（2次元）への平均計算時間: 0.03242秒\n",
    "# NumPyのndarray（1次元）へのアクセス速度は、pandasのSeriesへのアクセス速度の946.28倍速い！\n",
    "# NumPyのndarray（2次元）へのアクセス速度は、pandasのDataFrameへのアクセス速度の212.41倍速い！\n",
    "# NumPyのndarray（1次元）の掛け算速度は、pandasのSeriesの掛け算速度の112.18倍速い！\n",
    "# NumPyのndarray（1次元）の平均計算速度は、pandasのSeriesの平均計算速度の5.86倍速い！\n",
    "# NumPyのndarray（2次元）の平均計算速度は、pandasのDataFrameの平均計算速度の21.33倍速い！"
   ]
  },
  {
   "cell_type": "code",
   "execution_count": 41,
   "metadata": {},
   "outputs": [
    {
     "data": {
      "text/plain": [
       "array([5.8510065, 3.0563755, 3.7744968, 1.2060403], dtype=float32)"
      ]
     },
     "execution_count": 41,
     "metadata": {},
     "output_type": "execute_result"
    }
   ],
   "source": [
    "import numpy as np\n",
    "\n",
    "# pandasのDataFrameをndarray（NumPy配列）に変換\n",
    "features_array = df_features.to_numpy(dtype='float32')\n",
    "\n",
    "# NumPyで各列の平均値を計算する\n",
    "mean_features = np.mean(features_array, axis=0)\n",
    "mean_features  # 出力例： array([5.8510065, 3.0563755, 3.7744968, 1.2060403], dtype=float32)"
   ]
  },
  {
   "cell_type": "markdown",
   "metadata": {},
   "source": [
    "#### 【コラム】正規化や標準化を行うにはscikit-learnが便利"
   ]
  },
  {
   "cell_type": "code",
   "execution_count": 42,
   "metadata": {},
   "outputs": [
    {
     "data": {
      "text/plain": [
       "array([[-0.9128386,  1.0181674, -1.353994 , -1.3275825],\n",
       "       [-1.1559356, -0.1293889, -1.353994 , -1.3275825]], dtype=float32)"
      ]
     },
     "execution_count": 42,
     "metadata": {},
     "output_type": "execute_result"
    }
   ],
   "source": [
    "from sklearn.preprocessing import StandardScaler\n",
    "\n",
    "# scikit-learnで全ての特徴量を標準化\n",
    "scaler = StandardScaler()\n",
    "sk_scaled = scaler.fit_transform(features_array)\n",
    "sk_scaled[:2]  # 先頭2行を表示する\n",
    "# 出力例：\n",
    "# array([[-0.9128386,  1.0181674, -1.353994 , -1.3275825],\n",
    "#        [-1.1559356, -0.1293889, -1.353994 , -1.3275825]], dtype=float32)"
   ]
  },
  {
   "cell_type": "code",
   "execution_count": 43,
   "metadata": {},
   "outputs": [
    {
     "data": {
      "text/plain": [
       "array([[-0.9128407 ,  1.0181681 , -1.3539939 , -1.3275827 ],\n",
       "       [-1.1559378 , -0.12938811, -1.3539939 , -1.3275827 ],\n",
       "       [-1.520584  ,  0.1001229 , -1.2969716 , -1.3275827 ],\n",
       "       [-1.0343893 ,  1.2476791 , -1.3539939 , -1.3275827 ],\n",
       "       [-0.5481945 ,  1.9362133 , -1.1829268 , -1.0636605 ]],\n",
       "      dtype=float32)"
      ]
     },
     "execution_count": 43,
     "metadata": {},
     "output_type": "execute_result"
    }
   ],
   "source": [
    "# 【参考】NumPyで標準化を手計算する例（本ノートブックのみに掲載）\n",
    "data = features_array.copy()\n",
    "pd_scaled = (data - data.mean(axis=0)) / data.std(axis=0, ddof=0)\n",
    "pd_scaled[:5]  # 先頭5行を表示する"
   ]
  },
  {
   "cell_type": "code",
   "execution_count": 44,
   "metadata": {},
   "outputs": [
    {
     "data": {
      "text/html": [
       "<div>\n",
       "<style scoped>\n",
       "    .dataframe tbody tr th:only-of-type {\n",
       "        vertical-align: middle;\n",
       "    }\n",
       "\n",
       "    .dataframe tbody tr th {\n",
       "        vertical-align: top;\n",
       "    }\n",
       "\n",
       "    .dataframe thead th {\n",
       "        text-align: right;\n",
       "    }\n",
       "</style>\n",
       "<table border=\"1\" class=\"dataframe\">\n",
       "  <thead>\n",
       "    <tr style=\"text-align: right;\">\n",
       "      <th></th>\n",
       "      <th>0</th>\n",
       "      <th>1</th>\n",
       "      <th>2</th>\n",
       "      <th>3</th>\n",
       "    </tr>\n",
       "  </thead>\n",
       "  <tbody>\n",
       "    <tr>\n",
       "      <th>0</th>\n",
       "      <td>-0.912841</td>\n",
       "      <td>1.018168</td>\n",
       "      <td>-1.353994</td>\n",
       "      <td>-1.327583</td>\n",
       "    </tr>\n",
       "    <tr>\n",
       "      <th>1</th>\n",
       "      <td>-1.155938</td>\n",
       "      <td>-0.129388</td>\n",
       "      <td>-1.353994</td>\n",
       "      <td>-1.327583</td>\n",
       "    </tr>\n",
       "    <tr>\n",
       "      <th>2</th>\n",
       "      <td>-1.520584</td>\n",
       "      <td>0.100123</td>\n",
       "      <td>-1.296972</td>\n",
       "      <td>-1.327583</td>\n",
       "    </tr>\n",
       "    <tr>\n",
       "      <th>3</th>\n",
       "      <td>-1.034389</td>\n",
       "      <td>1.247679</td>\n",
       "      <td>-1.353994</td>\n",
       "      <td>-1.327583</td>\n",
       "    </tr>\n",
       "    <tr>\n",
       "      <th>4</th>\n",
       "      <td>-0.548195</td>\n",
       "      <td>1.936213</td>\n",
       "      <td>-1.182927</td>\n",
       "      <td>-1.063661</td>\n",
       "    </tr>\n",
       "  </tbody>\n",
       "</table>\n",
       "</div>"
      ],
      "text/plain": [
       "          0         1         2         3\n",
       "0 -0.912841  1.018168 -1.353994 -1.327583\n",
       "1 -1.155938 -0.129388 -1.353994 -1.327583\n",
       "2 -1.520584  0.100123 -1.296972 -1.327583\n",
       "3 -1.034389  1.247679 -1.353994 -1.327583\n",
       "4 -0.548195  1.936213 -1.182927 -1.063661"
      ]
     },
     "execution_count": 44,
     "metadata": {},
     "output_type": "execute_result"
    }
   ],
   "source": [
    "# 【参考】pandasで標準化を手計算する例（本ノートブックのみに掲載）\n",
    "data = pd.DataFrame(features_array)\n",
    "pd_scaled = (data - data.mean()) / data.std(ddof=0)\n",
    "pd_scaled[:5]  # 先頭5行を表示する"
   ]
  },
  {
   "cell_type": "markdown",
   "metadata": {},
   "source": [
    "### ■5. 機械学習の準備：データを訓練用とテスト用に分割しよう（scikit-learn使用）"
   ]
  },
  {
   "cell_type": "code",
   "execution_count": 45,
   "metadata": {},
   "outputs": [
    {
     "data": {
      "text/html": [
       "<div>\n",
       "<style scoped>\n",
       "    .dataframe tbody tr th:only-of-type {\n",
       "        vertical-align: middle;\n",
       "    }\n",
       "\n",
       "    .dataframe tbody tr th {\n",
       "        vertical-align: top;\n",
       "    }\n",
       "\n",
       "    .dataframe thead th {\n",
       "        text-align: right;\n",
       "    }\n",
       "</style>\n",
       "<table border=\"1\" class=\"dataframe\">\n",
       "  <thead>\n",
       "    <tr style=\"text-align: right;\">\n",
       "      <th></th>\n",
       "      <th>Sepal Length</th>\n",
       "      <th>Sepal Width</th>\n",
       "      <th>Petal Length</th>\n",
       "      <th>Petal Width</th>\n",
       "      <th>Class_ID</th>\n",
       "    </tr>\n",
       "  </thead>\n",
       "  <tbody>\n",
       "    <tr>\n",
       "      <th>57</th>\n",
       "      <td>4.9</td>\n",
       "      <td>2.4</td>\n",
       "      <td>3.3</td>\n",
       "      <td>1.0</td>\n",
       "      <td>1</td>\n",
       "    </tr>\n",
       "    <tr>\n",
       "      <th>137</th>\n",
       "      <td>6.4</td>\n",
       "      <td>3.1</td>\n",
       "      <td>5.5</td>\n",
       "      <td>1.8</td>\n",
       "      <td>2</td>\n",
       "    </tr>\n",
       "    <tr>\n",
       "      <th>70</th>\n",
       "      <td>5.9</td>\n",
       "      <td>3.2</td>\n",
       "      <td>4.8</td>\n",
       "      <td>1.8</td>\n",
       "      <td>1</td>\n",
       "    </tr>\n",
       "    <tr>\n",
       "      <th>56</th>\n",
       "      <td>6.3</td>\n",
       "      <td>3.3</td>\n",
       "      <td>4.7</td>\n",
       "      <td>1.6</td>\n",
       "      <td>1</td>\n",
       "    </tr>\n",
       "    <tr>\n",
       "      <th>132</th>\n",
       "      <td>6.4</td>\n",
       "      <td>2.8</td>\n",
       "      <td>5.6</td>\n",
       "      <td>2.2</td>\n",
       "      <td>2</td>\n",
       "    </tr>\n",
       "  </tbody>\n",
       "</table>\n",
       "</div>"
      ],
      "text/plain": [
       "     Sepal Length  Sepal Width  Petal Length  Petal Width  Class_ID\n",
       "57            4.9          2.4           3.3          1.0         1\n",
       "137           6.4          3.1           5.5          1.8         2\n",
       "70            5.9          3.2           4.8          1.8         1\n",
       "56            6.3          3.3           4.7          1.6         1\n",
       "132           6.4          2.8           5.6          2.2         2"
      ]
     },
     "execution_count": 45,
     "metadata": {},
     "output_type": "execute_result"
    }
   ],
   "source": [
    "from sklearn.model_selection import train_test_split\n",
    "\n",
    "X = df_features  # 入力データ（X：特徴量）：モデルへ入力する説明変数\n",
    "y = df_dropped['Class_ID'] # 正解値（y：ラベル）：予測したい目的変数\n",
    "\n",
    "# データを訓練セットとテストセットに分割（テストセットは全体の10％に設定）\n",
    "X_train, X_test, y_train, y_test = train_test_split(X, y, test_size=0.1, random_state=42)\n",
    "\n",
    "# 訓練セットの特徴量とラベルを結合して、先頭5行を表示\n",
    "pd.concat([X_train, y_train], axis=1).head()"
   ]
  },
  {
   "cell_type": "code",
   "execution_count": 46,
   "metadata": {},
   "outputs": [],
   "source": [
    "# 訓練セットからさらに検証セットを分割（検証セットも全体の10％に設定）\n",
    "X_train, X_valid, y_train, y_valid = train_test_split(X_train, y_train, test_size=1/9, random_state=42)"
   ]
  },
  {
   "cell_type": "code",
   "execution_count": 47,
   "metadata": {},
   "outputs": [
    {
     "data": {
      "text/html": [
       "<div>\n",
       "<style scoped>\n",
       "    .dataframe tbody tr th:only-of-type {\n",
       "        vertical-align: middle;\n",
       "    }\n",
       "\n",
       "    .dataframe tbody tr th {\n",
       "        vertical-align: top;\n",
       "    }\n",
       "\n",
       "    .dataframe thead th {\n",
       "        text-align: right;\n",
       "    }\n",
       "</style>\n",
       "<table border=\"1\" class=\"dataframe\">\n",
       "  <thead>\n",
       "    <tr style=\"text-align: right;\">\n",
       "      <th></th>\n",
       "      <th>Sepal Length</th>\n",
       "      <th>Sepal Width</th>\n",
       "      <th>Petal Length</th>\n",
       "      <th>Petal Width</th>\n",
       "      <th>Class_ID</th>\n",
       "    </tr>\n",
       "  </thead>\n",
       "  <tbody>\n",
       "    <tr>\n",
       "      <th>74</th>\n",
       "      <td>6.4</td>\n",
       "      <td>2.9</td>\n",
       "      <td>4.3</td>\n",
       "      <td>1.3</td>\n",
       "      <td>1</td>\n",
       "    </tr>\n",
       "    <tr>\n",
       "      <th>19</th>\n",
       "      <td>5.1</td>\n",
       "      <td>3.8</td>\n",
       "      <td>1.5</td>\n",
       "      <td>0.3</td>\n",
       "      <td>0</td>\n",
       "    </tr>\n",
       "    <tr>\n",
       "      <th>118</th>\n",
       "      <td>7.7</td>\n",
       "      <td>2.6</td>\n",
       "      <td>6.9</td>\n",
       "      <td>2.3</td>\n",
       "      <td>2</td>\n",
       "    </tr>\n",
       "    <tr>\n",
       "      <th>79</th>\n",
       "      <td>5.7</td>\n",
       "      <td>2.6</td>\n",
       "      <td>3.5</td>\n",
       "      <td>1.0</td>\n",
       "      <td>1</td>\n",
       "    </tr>\n",
       "    <tr>\n",
       "      <th>77</th>\n",
       "      <td>6.7</td>\n",
       "      <td>3.0</td>\n",
       "      <td>5.0</td>\n",
       "      <td>1.7</td>\n",
       "      <td>1</td>\n",
       "    </tr>\n",
       "  </tbody>\n",
       "</table>\n",
       "</div>"
      ],
      "text/plain": [
       "     Sepal Length  Sepal Width  Petal Length  Petal Width  Class_ID\n",
       "74            6.4          2.9           4.3          1.3         1\n",
       "19            5.1          3.8           1.5          0.3         0\n",
       "118           7.7          2.6           6.9          2.3         2\n",
       "79            5.7          2.6           3.5          1.0         1\n",
       "77            6.7          3.0           5.0          1.7         1"
      ]
     },
     "execution_count": 47,
     "metadata": {},
     "output_type": "execute_result"
    }
   ],
   "source": [
    "# 【参考】pandasを使って分割する方法（本ノートブックのみに掲載）\n",
    "\n",
    "# データフレームをまとめて連結\n",
    "df_combined = pd.concat([X, y], axis=1)\n",
    "\n",
    "# データをランダムにシャッフル（※忘れないように注意）\n",
    "df_shuffled = df_combined.sample(frac=1, random_state=42)\n",
    "\n",
    "# シャッフルされたデータから特徴量とターゲットを分離\n",
    "X_shuffled = df_shuffled.loc[:, ['Sepal Length', 'Sepal Width', 'Petal Length', 'Petal Width']]\n",
    "y_shuffled = df_shuffled.loc[:, ['Class_ID']]\n",
    "\n",
    "# データを訓練用のテスト用に分割\n",
    "test_size = 0.1\n",
    "test_index = int(len(X_shuffled) * test_size)\n",
    "\n",
    "X_train2 = X_shuffled.iloc[:-test_index]\n",
    "X_test2 = X_shuffled.iloc[-test_index:]\n",
    "y_train2 = y_shuffled.iloc[:-test_index]\n",
    "y_test2 = y_shuffled.iloc[-test_index:]\n",
    "\n",
    "pd.concat([X_train2, y_train2], axis=1).head()"
   ]
  },
  {
   "cell_type": "markdown",
   "metadata": {},
   "source": [
    "### ■6. 機械学習の実践：訓練～予測～評価しよう（scikit-learnの使い方）"
   ]
  },
  {
   "cell_type": "code",
   "execution_count": 48,
   "metadata": {},
   "outputs": [],
   "source": [
    "from sklearn.naive_bayes import GaussianNB\n",
    "\n",
    "# 機械学習のアルゴリズムを選択\n",
    "model = GaussianNB(var_smoothing=1e-9)  # ナイーブベイズ分類器"
   ]
  },
  {
   "cell_type": "code",
   "execution_count": 49,
   "metadata": {},
   "outputs": [
    {
     "data": {
      "text/html": [
       "<style>#sk-container-id-2 {color: black;}#sk-container-id-2 pre{padding: 0;}#sk-container-id-2 div.sk-toggleable {background-color: white;}#sk-container-id-2 label.sk-toggleable__label {cursor: pointer;display: block;width: 100%;margin-bottom: 0;padding: 0.3em;box-sizing: border-box;text-align: center;}#sk-container-id-2 label.sk-toggleable__label-arrow:before {content: \"▸\";float: left;margin-right: 0.25em;color: #696969;}#sk-container-id-2 label.sk-toggleable__label-arrow:hover:before {color: black;}#sk-container-id-2 div.sk-estimator:hover label.sk-toggleable__label-arrow:before {color: black;}#sk-container-id-2 div.sk-toggleable__content {max-height: 0;max-width: 0;overflow: hidden;text-align: left;background-color: #f0f8ff;}#sk-container-id-2 div.sk-toggleable__content pre {margin: 0.2em;color: black;border-radius: 0.25em;background-color: #f0f8ff;}#sk-container-id-2 input.sk-toggleable__control:checked~div.sk-toggleable__content {max-height: 200px;max-width: 100%;overflow: auto;}#sk-container-id-2 input.sk-toggleable__control:checked~label.sk-toggleable__label-arrow:before {content: \"▾\";}#sk-container-id-2 div.sk-estimator input.sk-toggleable__control:checked~label.sk-toggleable__label {background-color: #d4ebff;}#sk-container-id-2 div.sk-label input.sk-toggleable__control:checked~label.sk-toggleable__label {background-color: #d4ebff;}#sk-container-id-2 input.sk-hidden--visually {border: 0;clip: rect(1px 1px 1px 1px);clip: rect(1px, 1px, 1px, 1px);height: 1px;margin: -1px;overflow: hidden;padding: 0;position: absolute;width: 1px;}#sk-container-id-2 div.sk-estimator {font-family: monospace;background-color: #f0f8ff;border: 1px dotted black;border-radius: 0.25em;box-sizing: border-box;margin-bottom: 0.5em;}#sk-container-id-2 div.sk-estimator:hover {background-color: #d4ebff;}#sk-container-id-2 div.sk-parallel-item::after {content: \"\";width: 100%;border-bottom: 1px solid gray;flex-grow: 1;}#sk-container-id-2 div.sk-label:hover label.sk-toggleable__label {background-color: #d4ebff;}#sk-container-id-2 div.sk-serial::before {content: \"\";position: absolute;border-left: 1px solid gray;box-sizing: border-box;top: 0;bottom: 0;left: 50%;z-index: 0;}#sk-container-id-2 div.sk-serial {display: flex;flex-direction: column;align-items: center;background-color: white;padding-right: 0.2em;padding-left: 0.2em;position: relative;}#sk-container-id-2 div.sk-item {position: relative;z-index: 1;}#sk-container-id-2 div.sk-parallel {display: flex;align-items: stretch;justify-content: center;background-color: white;position: relative;}#sk-container-id-2 div.sk-item::before, #sk-container-id-2 div.sk-parallel-item::before {content: \"\";position: absolute;border-left: 1px solid gray;box-sizing: border-box;top: 0;bottom: 0;left: 50%;z-index: -1;}#sk-container-id-2 div.sk-parallel-item {display: flex;flex-direction: column;z-index: 1;position: relative;background-color: white;}#sk-container-id-2 div.sk-parallel-item:first-child::after {align-self: flex-end;width: 50%;}#sk-container-id-2 div.sk-parallel-item:last-child::after {align-self: flex-start;width: 50%;}#sk-container-id-2 div.sk-parallel-item:only-child::after {width: 0;}#sk-container-id-2 div.sk-dashed-wrapped {border: 1px dashed gray;margin: 0 0.4em 0.5em 0.4em;box-sizing: border-box;padding-bottom: 0.4em;background-color: white;}#sk-container-id-2 div.sk-label label {font-family: monospace;font-weight: bold;display: inline-block;line-height: 1.2em;}#sk-container-id-2 div.sk-label-container {text-align: center;}#sk-container-id-2 div.sk-container {/* jupyter's `normalize.less` sets `[hidden] { display: none; }` but bootstrap.min.css set `[hidden] { display: none !important; }` so we also need the `!important` here to be able to override the default hidden behavior on the sphinx rendered scikit-learn.org. See: https://github.com/scikit-learn/scikit-learn/issues/21755 */display: inline-block !important;position: relative;}#sk-container-id-2 div.sk-text-repr-fallback {display: none;}</style><div id=\"sk-container-id-2\" class=\"sk-top-container\"><div class=\"sk-text-repr-fallback\"><pre>GaussianNB()</pre><b>In a Jupyter environment, please rerun this cell to show the HTML representation or trust the notebook. <br />On GitHub, the HTML representation is unable to render, please try loading this page with nbviewer.org.</b></div><div class=\"sk-container\" hidden><div class=\"sk-item\"><div class=\"sk-estimator sk-toggleable\"><input class=\"sk-toggleable__control sk-hidden--visually\" id=\"sk-estimator-id-2\" type=\"checkbox\" checked><label for=\"sk-estimator-id-2\" class=\"sk-toggleable__label sk-toggleable__label-arrow\">GaussianNB</label><div class=\"sk-toggleable__content\"><pre>GaussianNB()</pre></div></div></div></div></div>"
      ],
      "text/plain": [
       "GaussianNB()"
      ]
     },
     "execution_count": 49,
     "metadata": {},
     "output_type": "execute_result"
    }
   ],
   "source": [
    "# 訓練セットを入力して、機械学習モデルを訓練\n",
    "model.fit(X_train, y_train)"
   ]
  },
  {
   "cell_type": "code",
   "execution_count": 50,
   "metadata": {},
   "outputs": [
    {
     "data": {
      "text/plain": [
       "array([1, 0, 2, 1, 2, 0, 1, 2, 1, 1, 2, 0, 0, 0, 0], dtype=int64)"
      ]
     },
     "execution_count": 50,
     "metadata": {},
     "output_type": "execute_result"
    }
   ],
   "source": [
    "# テストセットを入力して、訓練済みモデルで予測\n",
    "pred_test = model.predict(X_test)\n",
    "\n",
    "pred_test\n",
    "# 出力例： array([1, 0, 2, 1, 2, 0, 1, 2, 1, 1, 2, 0, 0, 0, 0], dtype=int64)"
   ]
  },
  {
   "cell_type": "code",
   "execution_count": 51,
   "metadata": {},
   "outputs": [
    {
     "data": {
      "text/plain": [
       "array([1, 0, 2, 1, 1, 0, 1, 2, 1, 1, 2, 0, 0, 0, 0], dtype=int64)"
      ]
     },
     "execution_count": 51,
     "metadata": {},
     "output_type": "execute_result"
    }
   ],
   "source": [
    "# 【参考】テストセットのラベルの内容（本ノートブックのみに掲載）\n",
    "np.array(y_test)\n",
    "# 出力例： array([1, 0, 2, 1, 1, 0, 1, 2, 1, 1, 2, 0, 0, 0, 0], dtype=int64)"
   ]
  },
  {
   "cell_type": "code",
   "execution_count": 52,
   "metadata": {},
   "outputs": [
    {
     "name": "stdout",
     "output_type": "stream",
     "text": [
      "Accuracy:0.9333333333333333\n"
     ]
    }
   ],
   "source": [
    "from sklearn.metrics import accuracy_score\n",
    "\n",
    "# テストセットによる、予測結果の評価（正解率）\n",
    "print(f'Accuracy:{accuracy_score(y_test, pred_test)}')\n",
    "# 出力例： Accuracy:0.9333333333333333"
   ]
  },
  {
   "cell_type": "code",
   "execution_count": 53,
   "metadata": {},
   "outputs": [
    {
     "name": "stdout",
     "output_type": "stream",
     "text": [
      "Accuracy:1.0\n"
     ]
    }
   ],
   "source": [
    "# 【参考】ハイパーパラメーターのチューニングのために、検証セットで予測と評価（本ノートブックのみに掲載）\n",
    "model2 = GaussianNB(var_smoothing=0.02)  # 数値を変えながら評価して、最適な値を探す\n",
    "model2.fit(X_train, y_train)\n",
    "pred_valid = model2.predict(X_valid)\n",
    "print(f'Accuracy:{accuracy_score(y_valid, pred_valid)}')\n",
    "# 出力例： Accuracy:1.0"
   ]
  },
  {
   "cell_type": "markdown",
   "metadata": {},
   "source": [
    "### 今回は、これで終わりです。お疲れさまでした。"
   ]
  }
 ],
 "metadata": {
  "kernelspec": {
   "display_name": "Kaggle",
   "language": "python",
   "name": "python3"
  },
  "language_info": {
   "codemirror_mode": {
    "name": "ipython",
    "version": 3
   },
   "file_extension": ".py",
   "mimetype": "text/x-python",
   "name": "python",
   "nbconvert_exporter": "python",
   "pygments_lexer": "ipython3",
   "version": "3.10.4"
  }
 },
 "nbformat": 4,
 "nbformat_minor": 2
}
